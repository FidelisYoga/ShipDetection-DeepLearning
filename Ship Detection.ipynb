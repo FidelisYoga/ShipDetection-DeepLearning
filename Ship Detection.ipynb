version https://git-lfs.github.com/spec/v1
oid sha256:f0e0dc6192f45eab50052c99d8401b4b9cd34ed69cf7c1205f7f02380e355d6e
size 27780552
